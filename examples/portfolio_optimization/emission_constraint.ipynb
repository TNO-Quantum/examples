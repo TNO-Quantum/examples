{
 "cells": [
  {
   "cell_type": "markdown",
   "id": "88bfeb9a",
   "metadata": {},
   "source": [
    "# Example notebook: Emission constraint\n",
    "\n",
    "In this notebook we demonstrate how the emission constraint impact results."
   ]
  },
  {
   "cell_type": "code",
   "execution_count": 1,
   "id": "bf4537d9",
   "metadata": {},
   "outputs": [],
   "source": [
    "import matplotlib.pyplot as plt\n",
    "import numpy as np\n",
    "from dwave.samplers import SimulatedAnnealingSampler\n",
    "\n",
    "from tno.quantum.problems.portfolio_optimization import (\n",
    "    PortfolioOptimizer,\n",
    "    plot_front,\n",
    "    plot_points,\n",
    ")"
   ]
  },
  {
   "cell_type": "markdown",
   "id": "4e76195c",
   "metadata": {},
   "source": [
    "## Define basic portfolio optimization problem"
   ]
  },
  {
   "cell_type": "code",
   "execution_count": 2,
   "id": "e2636003",
   "metadata": {},
   "outputs": [],
   "source": [
    "# Choose QUBO sampler\n",
    "sampler = SimulatedAnnealingSampler()\n",
    "sampler_kwargs = {\"num_reads\": 20, \"num_sweeps\": 200}\n",
    "\n",
    "# Set up penalty coefficients for the constraints\n",
    "lambdas1 = np.logspace(-16, 1, 25, endpoint=False, base=10.0)\n",
    "lambdas2 = np.logspace(-16, 1, 25, endpoint=False, base=10.0)\n",
    "lambdas3 = np.array([1])"
   ]
  },
  {
   "cell_type": "code",
   "execution_count": 3,
   "id": "857dec33",
   "metadata": {},
   "outputs": [],
   "source": [
    "# Define basic portfolio optimization problem instance\n",
    "portfolio_optimizer = PortfolioOptimizer(portfolio_data=\"benchmark_dataset\", k=2)\n",
    "portfolio_optimizer.add_minimize_hhi(weights=lambdas1)\n",
    "portfolio_optimizer.add_maximize_roc(formulation=1, weights_roc=lambdas2)"
   ]
  },
  {
   "cell_type": "markdown",
   "id": "c4e477de",
   "metadata": {},
   "source": [
    "### Solve without emission constraint"
   ]
  },
  {
   "cell_type": "code",
   "execution_count": 4,
   "id": "ef736d31",
   "metadata": {},
   "outputs": [
    {
     "name": "stdout",
     "output_type": "stream",
     "text": [
      "Total outstanding now: 21252.70\n",
      "ROC now: 1.0642\n",
      "HHI now: 1.0000\n",
      "Total Emission now: 43355508.00\n",
      "Relative emission intensity now: 2040.00\n",
      "Expected total outstanding future: 31368.00 Std dev: 886.39\n",
      "Expected average growth factor: 1.4760 Std dev: 0.0417\n",
      "Status: creating model\n",
      "Status: calculating\n"
     ]
    },
    {
     "name": "stderr",
     "output_type": "stream",
     "text": [
      "100%|████████████████████████████████████████████████████████████████████████████████████████████████████| 625/625 [00:11<00:00, 55.25it/s]\n"
     ]
    },
    {
     "name": "stdout",
     "output_type": "stream",
     "text": [
      "Drop duplicate samples in results.\n",
      "Number of unique samples:  18\n",
      "Time consumed: 0:00:11.366228\n"
     ]
    }
   ],
   "source": [
    "# Solve the portfolio optimization problem without emission constraint\n",
    "results_no_constraint = portfolio_optimizer.run(sampler, sampler_kwargs)"
   ]
  },
  {
   "cell_type": "markdown",
   "id": "888696a5",
   "metadata": {},
   "source": [
    "### Solve with emission constraint"
   ]
  },
  {
   "cell_type": "code",
   "execution_count": 5,
   "id": "0faafd1a",
   "metadata": {},
   "outputs": [],
   "source": [
    "# Add the emission constrained\n",
    "portfolio_optimizer.add_emission_constraint(\n",
    "    weights=lambdas3,\n",
    "    emission_now=\"emis_intens_now\",\n",
    "    emission_future=\"emis_intens_future\",\n",
    "    name=\"emission\",\n",
    ")"
   ]
  },
  {
   "cell_type": "code",
   "execution_count": 6,
   "id": "0b77d98e",
   "metadata": {},
   "outputs": [
    {
     "name": "stdout",
     "output_type": "stream",
     "text": [
      "Total outstanding now: 21252.70\n",
      "ROC now: 1.0642\n",
      "HHI now: 1.0000\n",
      "Total Emission now: 43355508.00\n",
      "Relative emission intensity now: 2040.00\n",
      "Expected total outstanding future: 31368.00 Std dev: 886.39\n",
      "Expected average growth factor: 1.4760 Std dev: 0.0417\n",
      "Status: creating model\n",
      "Emission constraint: emission, target reduction percentage: -30.0%\n",
      "Status: calculating\n"
     ]
    },
    {
     "name": "stderr",
     "output_type": "stream",
     "text": [
      "100%|████████████████████████████████████████████████████████████████████████████████████████████████████| 625/625 [00:25<00:00, 24.87it/s]\n"
     ]
    },
    {
     "name": "stdout",
     "output_type": "stream",
     "text": [
      "Drop duplicate samples in results.\n",
      "Number of unique samples:  12500\n",
      "Time consumed: 0:00:25.167966\n"
     ]
    }
   ],
   "source": [
    "# Solve the constrained portfolio optimization problem\n",
    "results_emission_constraint = portfolio_optimizer.run(sampler, sampler_kwargs)"
   ]
  },
  {
   "cell_type": "markdown",
   "id": "418d890f",
   "metadata": {},
   "source": [
    "## Visualize results"
   ]
  },
  {
   "cell_type": "code",
   "execution_count": 7,
   "id": "d2650993",
   "metadata": {},
   "outputs": [],
   "source": [
    "# Results unconstrained problem\n",
    "results_df1 = results_no_constraint.results_df\n",
    "x1, y1 = results_df1[\"diff diversification\"], results_df1[\"diff ROC\"]"
   ]
  },
  {
   "cell_type": "code",
   "execution_count": 8,
   "id": "096c5c04",
   "metadata": {},
   "outputs": [
    {
     "data": {
      "text/html": [
       "<div>\n",
       "<style scoped>\n",
       "    .dataframe tbody tr th:only-of-type {\n",
       "        vertical-align: middle;\n",
       "    }\n",
       "\n",
       "    .dataframe tbody tr th {\n",
       "        vertical-align: top;\n",
       "    }\n",
       "\n",
       "    .dataframe thead th {\n",
       "        text-align: right;\n",
       "    }\n",
       "</style>\n",
       "<table border=\"1\" class=\"dataframe\">\n",
       "  <thead>\n",
       "    <tr style=\"text-align: right;\">\n",
       "      <th></th>\n",
       "      <th>outstanding amount</th>\n",
       "      <th>diff ROC</th>\n",
       "      <th>diff diversification</th>\n",
       "      <th>diff outstanding</th>\n",
       "      <th>diff emission</th>\n",
       "    </tr>\n",
       "  </thead>\n",
       "  <tbody>\n",
       "    <tr>\n",
       "      <th>0</th>\n",
       "      <td>(14.0, 473.0, 24.0, 1090.0, 56.0, 291.0, 12.0,...</td>\n",
       "      <td>2.709585</td>\n",
       "      <td>-2.496949</td>\n",
       "      <td>1.292965</td>\n",
       "      <td>-24.851818</td>\n",
       "    </tr>\n",
       "    <tr>\n",
       "      <th>4</th>\n",
       "      <td>(14.0, 473.0, 24.0, 1090.0, 56.0, 291.0, 12.0,...</td>\n",
       "      <td>2.769648</td>\n",
       "      <td>-2.494465</td>\n",
       "      <td>1.292981</td>\n",
       "      <td>-24.852575</td>\n",
       "    </tr>\n",
       "    <tr>\n",
       "      <th>20</th>\n",
       "      <td>(14.0, 473.0, 24.0, 1090.0, 56.0, 291.0, 12.0,...</td>\n",
       "      <td>3.247117</td>\n",
       "      <td>-2.474602</td>\n",
       "      <td>1.293106</td>\n",
       "      <td>-24.859097</td>\n",
       "    </tr>\n",
       "    <tr>\n",
       "      <th>100</th>\n",
       "      <td>(14.0, 473.0, 24.0, 1090.0, 56.0, 291.0, 12.0,...</td>\n",
       "      <td>3.380810</td>\n",
       "      <td>-2.437864</td>\n",
       "      <td>1.293342</td>\n",
       "      <td>-24.870455</td>\n",
       "    </tr>\n",
       "    <tr>\n",
       "      <th>120</th>\n",
       "      <td>(19.0, 473.0, 24.0, 1090.0, 56.0, 291.0, 12.0,...</td>\n",
       "      <td>2.548857</td>\n",
       "      <td>-2.320262</td>\n",
       "      <td>1.294094</td>\n",
       "      <td>-24.894073</td>\n",
       "    </tr>\n",
       "  </tbody>\n",
       "</table>\n",
       "</div>"
      ],
      "text/plain": [
       "                                    outstanding amount  diff ROC  \\\n",
       "0    (14.0, 473.0, 24.0, 1090.0, 56.0, 291.0, 12.0,...  2.709585   \n",
       "4    (14.0, 473.0, 24.0, 1090.0, 56.0, 291.0, 12.0,...  2.769648   \n",
       "20   (14.0, 473.0, 24.0, 1090.0, 56.0, 291.0, 12.0,...  3.247117   \n",
       "100  (14.0, 473.0, 24.0, 1090.0, 56.0, 291.0, 12.0,...  3.380810   \n",
       "120  (19.0, 473.0, 24.0, 1090.0, 56.0, 291.0, 12.0,...  2.548857   \n",
       "\n",
       "     diff diversification  diff outstanding  diff emission  \n",
       "0               -2.496949          1.292965     -24.851818  \n",
       "4               -2.494465          1.292981     -24.852575  \n",
       "20              -2.474602          1.293106     -24.859097  \n",
       "100             -2.437864          1.293342     -24.870455  \n",
       "120             -2.320262          1.294094     -24.894073  "
      ]
     },
     "execution_count": 8,
     "metadata": {},
     "output_type": "execute_result"
    }
   ],
   "source": [
    "# Compute \"diff emission\" column manually\n",
    "portfolio_data = results_no_constraint.portfolio_data\n",
    "outstanding_now = portfolio_data.get_outstanding_now()\n",
    "total_outstanding_now = np.sum(outstanding_now)\n",
    "emission_intensity_now = portfolio_data.get_column(\"emis_intens_now\")\n",
    "emission_intensity_future = portfolio_data.get_column(\"emis_intens_future\")\n",
    "\n",
    "def calculate_diff_emission(outstanding_future):\n",
    "    \"\"\"Calculate manually \"diff emission\" values\"\"\"\n",
    "    total_outstanding_future = np.sum(outstanding_future)\n",
    "    total_relative_emission_now = (\n",
    "        np.sum(outstanding_now * emission_intensity_now) / total_outstanding_now\n",
    "    )\n",
    "    total_relative_emission_future = (\n",
    "        np.sum(outstanding_future * emission_intensity_future)\n",
    "        / total_outstanding_future\n",
    "    )\n",
    "    return 100 * (total_relative_emission_future / total_relative_emission_now - 1)\n",
    "\n",
    "\n",
    "results_df1[\"diff emission\"] = results_df1[\"outstanding amount\"].apply(\n",
    "    calculate_diff_emission\n",
    ")\n",
    "results_df1.head()"
   ]
  },
  {
   "cell_type": "code",
   "execution_count": 9,
   "id": "338f371c",
   "metadata": {},
   "outputs": [
    {
     "data": {
      "text/html": [
       "<div>\n",
       "<style scoped>\n",
       "    .dataframe tbody tr th:only-of-type {\n",
       "        vertical-align: middle;\n",
       "    }\n",
       "\n",
       "    .dataframe tbody tr th {\n",
       "        vertical-align: top;\n",
       "    }\n",
       "\n",
       "    .dataframe thead th {\n",
       "        text-align: right;\n",
       "    }\n",
       "</style>\n",
       "<table border=\"1\" class=\"dataframe\">\n",
       "  <thead>\n",
       "    <tr style=\"text-align: right;\">\n",
       "      <th></th>\n",
       "      <th>outstanding amount</th>\n",
       "      <th>diff ROC</th>\n",
       "      <th>diff diversification</th>\n",
       "      <th>diff outstanding</th>\n",
       "      <th>diff emission</th>\n",
       "    </tr>\n",
       "  </thead>\n",
       "  <tbody>\n",
       "    <tr>\n",
       "      <th>0</th>\n",
       "      <td>(17.333333333333332, 491.3333333333333, 26.666...</td>\n",
       "      <td>2.851864</td>\n",
       "      <td>-1.998665</td>\n",
       "      <td>1.510208</td>\n",
       "      <td>-29.999906</td>\n",
       "    </tr>\n",
       "    <tr>\n",
       "      <th>1</th>\n",
       "      <td>(14.0, 491.3333333333333, 28.0, 1410.0, 62.0, ...</td>\n",
       "      <td>1.739756</td>\n",
       "      <td>-1.834305</td>\n",
       "      <td>1.504201</td>\n",
       "      <td>-30.000001</td>\n",
       "    </tr>\n",
       "    <tr>\n",
       "      <th>2</th>\n",
       "      <td>(15.666666666666666, 528.0, 28.0, 1410.0, 68.0...</td>\n",
       "      <td>2.802582</td>\n",
       "      <td>-3.463787</td>\n",
       "      <td>1.518929</td>\n",
       "      <td>-30.000131</td>\n",
       "    </tr>\n",
       "    <tr>\n",
       "      <th>3</th>\n",
       "      <td>(15.666666666666666, 528.0, 28.0, 1410.0, 62.0...</td>\n",
       "      <td>3.001493</td>\n",
       "      <td>-6.190747</td>\n",
       "      <td>1.555238</td>\n",
       "      <td>-29.999856</td>\n",
       "    </tr>\n",
       "    <tr>\n",
       "      <th>4</th>\n",
       "      <td>(19.0, 491.3333333333333, 28.0, 1410.0, 56.0, ...</td>\n",
       "      <td>1.036203</td>\n",
       "      <td>-0.978489</td>\n",
       "      <td>1.499527</td>\n",
       "      <td>-29.999957</td>\n",
       "    </tr>\n",
       "  </tbody>\n",
       "</table>\n",
       "</div>"
      ],
      "text/plain": [
       "                                  outstanding amount  diff ROC  \\\n",
       "0  (17.333333333333332, 491.3333333333333, 26.666...  2.851864   \n",
       "1  (14.0, 491.3333333333333, 28.0, 1410.0, 62.0, ...  1.739756   \n",
       "2  (15.666666666666666, 528.0, 28.0, 1410.0, 68.0...  2.802582   \n",
       "3  (15.666666666666666, 528.0, 28.0, 1410.0, 62.0...  3.001493   \n",
       "4  (19.0, 491.3333333333333, 28.0, 1410.0, 56.0, ...  1.036203   \n",
       "\n",
       "   diff diversification  diff outstanding  diff emission  \n",
       "0             -1.998665          1.510208     -29.999906  \n",
       "1             -1.834305          1.504201     -30.000001  \n",
       "2             -3.463787          1.518929     -30.000131  \n",
       "3             -6.190747          1.555238     -29.999856  \n",
       "4             -0.978489          1.499527     -29.999957  "
      ]
     },
     "execution_count": 9,
     "metadata": {},
     "output_type": "execute_result"
    }
   ],
   "source": [
    "# Results constrained problem\n",
    "results_df2 = results_emission_constraint.results_df\n",
    "x2, y2 = results_df2[\"diff diversification\"], results_df2[\"diff ROC\"]\n",
    "results_df2.head()"
   ]
  },
  {
   "cell_type": "code",
   "execution_count": 10,
   "id": "5ab0be8f",
   "metadata": {},
   "outputs": [
    {
     "data": {
      "image/png": "[encoded data removed]",
      "text/plain": [
       "<Figure size 1200x500 with 3 Axes>"
      ]
     },
     "metadata": {},
     "output_type": "display_data"
    }
   ],
   "source": [
    "# Plot results\n",
    "fig, axs = plt.subplots(ncols=2, figsize=(12, 5))\n",
    "(ax1, ax2) = axs\n",
    "scatter1 = plot_points(\n",
    "    x1, y1, ax=ax1, c=results_df1[\"diff emission\"], cmap=\"viridis\", vmin=-30, vmax=-24\n",
    ")\n",
    "scatter2 = plot_points(\n",
    "    x2, y2, ax=ax2, c=results_df2[\"diff emission\"], cmap=\"viridis\", vmin=-30, vmax=-24\n",
    ")\n",
    "\n",
    "ax1.set_title(\"Unconstrained problem\")\n",
    "ax2.set_title(\"Constrained problem\")\n",
    "cbar = fig.colorbar(scatter2, ax=axs, orientation=\"horizontal\", label=\"Emission\")\n",
    "\n",
    "for ax in axs:\n",
    "    ax.set_xlim(-15, 5)\n",
    "    ax.set_ylim(-2, 10)"
   ]
  },
  {
   "cell_type": "code",
   "execution_count": null,
   "id": "07e04a9e",
   "metadata": {},
   "outputs": [],
   "source": []
  }
 ],
 "metadata": {
  "kernelspec": {
   "display_name": "Python 3 (ipykernel)",
   "language": "python",
   "name": "python3"
  },
  "language_info": {
   "codemirror_mode": {
    "name": "ipython",
    "version": 3
   },
   "file_extension": ".py",
   "mimetype": "text/x-python",
   "name": "python",
   "nbconvert_exporter": "python",
   "pygments_lexer": "ipython3",
   "version": "3.10.4"
  }
 },
 "nbformat": 4,
 "nbformat_minor": 5
}
